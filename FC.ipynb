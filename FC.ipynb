{
 "cells": [
  {
   "cell_type": "markdown",
   "id": "0fc6375a-f3cf-4c50-9ea0-f6518100c648",
   "metadata": {},
   "source": [
    "# Back Propagation Illustration\n",
    "\n",
    "two layer fully connected network"
   ]
  },
  {
   "cell_type": "code",
   "execution_count": 1,
   "id": "814bb563-3a6a-4727-8200-e206910899c8",
   "metadata": {},
   "outputs": [],
   "source": [
    "import numpy as np"
   ]
  },
  {
   "cell_type": "code",
   "execution_count": 29,
   "id": "7370ce31-89a7-4231-b368-badf08a095af",
   "metadata": {},
   "outputs": [],
   "source": [
    "input_size = 4\n",
    "hidden_size = 10\n",
    "num_classes = 3\n",
    "num_inputs = 5\n",
    "N= 5"
   ]
  },
  {
   "cell_type": "code",
   "execution_count": 16,
   "id": "d1a12c3a-488e-4267-86b8-a19e0f7c569e",
   "metadata": {},
   "outputs": [],
   "source": [
    "x = np.random.rand(num_inputs,input_size)\n",
    "h1 = np.random.rand(input_size,hidden_size)\n",
    "h2 = np.random.rand(hidden_size,num_classes)\n",
    "b1= np.random.rand(1,hidden_size)\n",
    "b2 = np.random.rand(1,num_classes)"
   ]
  },
  {
   "cell_type": "code",
   "execution_count": 17,
   "id": "5e1c96e3-fcc9-4194-93b0-f1cbfd7565e9",
   "metadata": {},
   "outputs": [
    {
     "data": {
      "text/plain": [
       "array([[0.68601668, 0.43656707, 0.18775476, 0.9230418 ],\n",
       "       [0.22996683, 0.04873868, 0.94584478, 0.21207473],\n",
       "       [0.49786743, 0.19018346, 0.308208  , 0.67710977],\n",
       "       [0.77302765, 0.3962753 , 0.02861088, 0.42965049],\n",
       "       [0.69239226, 0.37192737, 0.04115848, 0.92473483]])"
      ]
     },
     "execution_count": 17,
     "metadata": {},
     "output_type": "execute_result"
    }
   ],
   "source": [
    "x"
   ]
  },
  {
   "cell_type": "code",
   "execution_count": 18,
   "id": "cfaed480-8012-47ce-84b8-c3f59229b93f",
   "metadata": {},
   "outputs": [
    {
     "data": {
      "text/plain": [
       "array([[0.56867403, 0.77216369, 0.13734916, 0.48985373, 0.21555271,\n",
       "        0.92919049, 0.94924823, 0.52394269, 0.89431119, 0.24018398],\n",
       "       [0.33206145, 0.55485482, 0.18366402, 0.75198737, 0.81829092,\n",
       "        0.15671713, 0.23016427, 0.92291967, 0.43191418, 0.63042281],\n",
       "       [0.91980807, 0.3750707 , 0.64042941, 0.7479426 , 0.0372577 ,\n",
       "        0.18772193, 0.36632696, 0.65616221, 0.37086623, 0.68261622],\n",
       "       [0.23541433, 0.31593232, 0.34065806, 0.05922922, 0.38655499,\n",
       "        0.45326226, 0.98250419, 0.50349624, 0.56298428, 0.48558978]])"
      ]
     },
     "execution_count": 18,
     "metadata": {},
     "output_type": "execute_result"
    }
   ],
   "source": [
    "h1"
   ]
  },
  {
   "cell_type": "code",
   "execution_count": 19,
   "id": "85474e69-3826-478c-9688-3d5c52a3be37",
   "metadata": {},
   "outputs": [
    {
     "data": {
      "text/plain": [
       "array([[0.04862987, 0.1115794 , 0.42092916, 0.8231059 , 0.87366062,\n",
       "        0.70924241, 0.65900507, 0.49475792, 0.05713816, 0.78595603]])"
      ]
     },
     "execution_count": 19,
     "metadata": {},
     "output_type": "execute_result"
    }
   ],
   "source": [
    "b1"
   ]
  },
  {
   "cell_type": "code",
   "execution_count": 44,
   "id": "c0d67e57-c9ce-4e3b-b84e-7939bea8dbcb",
   "metadata": {},
   "outputs": [],
   "source": [
    "z= np.dot(x,h1)+b1\n",
    "resp1 = np.where(z>0,z,0)"
   ]
  },
  {
   "cell_type": "code",
   "execution_count": 45,
   "id": "e7f0f407-c978-4d8e-96e2-fc2ad09de04c",
   "metadata": {},
   "outputs": [],
   "source": [
    "scores= np.dot(resp1,h2)+b2"
   ]
  },
  {
   "cell_type": "code",
   "execution_count": 46,
   "id": "e0e1d297-37a8-4abd-b3ae-1031e6227c54",
   "metadata": {},
   "outputs": [
    {
     "data": {
      "text/plain": [
       "array([[ 8.95415327, 10.59321081,  8.56874197],\n",
       "       [ 6.92689158,  7.77378196,  6.87705954],\n",
       "       [ 7.60566399,  8.68234475,  7.16933165],\n",
       "       [ 7.54551933,  8.84569979,  7.33189682],\n",
       "       [ 8.49986293,  9.95067232,  7.99171963]])"
      ]
     },
     "execution_count": 46,
     "metadata": {},
     "output_type": "execute_result"
    }
   ],
   "source": [
    "scores"
   ]
  },
  {
   "cell_type": "code",
   "execution_count": 47,
   "id": "bdc91be7-1d43-4dac-a976-4969725e40b1",
   "metadata": {},
   "outputs": [],
   "source": [
    "y=[0,1,2,2,1]"
   ]
  },
  {
   "cell_type": "markdown",
   "id": "cfd563c9-7a54-46f9-a564-80d356cd2d00",
   "metadata": {},
   "source": [
    "f = scores to reduce max score of each column( each test data point)"
   ]
  },
  {
   "cell_type": "code",
   "execution_count": 22,
   "id": "c1d8efb6-112f-4e7a-a319-12062d03c311",
   "metadata": {},
   "outputs": [
    {
     "data": {
      "text/plain": [
       "array([[-1.63905754, -0.84689038, -1.07668076, -1.30018046, -1.45080939],\n",
       "       [ 0.        ,  0.        ,  0.        ,  0.        ,  0.        ],\n",
       "       [-2.02446885, -0.89672242, -1.5130131 , -1.51380297, -1.9589527 ]])"
      ]
     },
     "execution_count": 22,
     "metadata": {},
     "output_type": "execute_result"
    }
   ],
   "source": [
    "f = scores.T - np.max(scores,axis=1)\n",
    "f"
   ]
  },
  {
   "cell_type": "markdown",
   "id": "c38c1c26-1ada-4bb4-9db8-599b472bdc6e",
   "metadata": {},
   "source": [
    "- Use softmax to convert model score to probability. \n",
    "- Each column is a data point with probability for each class. \n",
    "- e.g. 0.23 for class 1, 0.53 for class 2 and 0.22 for class 3"
   ]
  },
  {
   "cell_type": "code",
   "execution_count": 27,
   "id": "8a3f7e4b-a5f3-4868-8236-7b398438b175",
   "metadata": {},
   "outputs": [
    {
     "data": {
      "text/plain": [
       "array([[0.23932838, 0.26667665, 0.26178789, 0.24882592, 0.24623395],\n",
       "       [0.53575323, 0.47214718, 0.50613832, 0.51505356, 0.52948328],\n",
       "       [0.22491839, 0.26117617, 0.23207378, 0.23612052, 0.22428277]])"
      ]
     },
     "execution_count": 27,
     "metadata": {},
     "output_type": "execute_result"
    }
   ],
   "source": [
    "f = np.exp(f)\n",
    "p = f/np.sum(f,axis=0)\n",
    "p"
   ]
  },
  {
   "cell_type": "code",
   "execution_count": 31,
   "id": "2f29738b-57c7-4851-8ebf-a90355161d49",
   "metadata": {},
   "outputs": [
    {
     "data": {
      "text/plain": [
       "array([0, 1, 2, 3, 4])"
      ]
     },
     "execution_count": 31,
     "metadata": {},
     "output_type": "execute_result"
    }
   ],
   "source": [
    "_sample_ix  = np.arange(N)\n",
    "_sample_ix"
   ]
  },
  {
   "cell_type": "markdown",
   "id": "17fe04bf-132d-4b6e-9d6a-74eb26f79dd5",
   "metadata": {},
   "source": [
    "- Use the pair of row=y[i] and column=i to deduce the probability for ground truth. \n",
    "- So if y[0] is class 0, then the true class will get its probability reduced by 1. "
   ]
  },
  {
   "cell_type": "code",
   "execution_count": 32,
   "id": "a893f24e-507d-4ef0-b2dd-c125927a5f43",
   "metadata": {},
   "outputs": [
    {
     "data": {
      "text/plain": [
       "array([[-0.76067162,  0.26667665,  0.26178789,  0.24882592,  0.24623395],\n",
       "       [ 0.53575323, -0.52785282,  0.50613832,  0.51505356, -0.47051672],\n",
       "       [ 0.22491839,  0.26117617, -0.76792622, -0.76387948,  0.22428277]])"
      ]
     },
     "execution_count": 32,
     "metadata": {},
     "output_type": "execute_result"
    }
   ],
   "source": [
    "grads={}\n",
    "df = p\n",
    "df[y,_sample_ix]-=1\n",
    "df"
   ]
  },
  {
   "cell_type": "code",
   "execution_count": 39,
   "id": "a914d963-e90e-4752-a452-2fdd42492fba",
   "metadata": {},
   "outputs": [
    {
     "data": {
      "text/plain": [
       "-0.760671615611053"
      ]
     },
     "execution_count": 39,
     "metadata": {},
     "output_type": "execute_result"
    }
   ],
   "source": [
    "df[y[0],0]"
   ]
  },
  {
   "cell_type": "code",
   "execution_count": 40,
   "id": "284a4d1d-86c1-4e43-a2ef-4d7f5f157e8d",
   "metadata": {},
   "outputs": [
    {
     "data": {
      "text/plain": [
       "-0.527852818852556"
      ]
     },
     "execution_count": 40,
     "metadata": {},
     "output_type": "execute_result"
    }
   ],
   "source": [
    "df[y[1],1]"
   ]
  },
  {
   "cell_type": "markdown",
   "id": "fd42c98d-56fa-4efe-86ee-889cda043371",
   "metadata": {},
   "source": [
    "- W2 is of dimension(hidden_size, class_size)\n",
    "- df is estimation loss\n",
    "- score = z * w2 + b2, so the df/dw2 = z "
   ]
  },
  {
   "cell_type": "code",
   "execution_count": 42,
   "id": "02c23996-42b2-42e7-a24e-9bb102af6858",
   "metadata": {},
   "outputs": [
    {
     "data": {
      "text/plain": [
       "array([[ 0.03286772,  0.07105576, -0.10392348],\n",
       "       [ 0.00923748,  0.15134869, -0.16058617],\n",
       "       [ 0.03756917,  0.07811826, -0.11568743],\n",
       "       [ 0.06400701,  0.16707231, -0.23107932],\n",
       "       [ 0.02559751,  0.21448086, -0.24007837],\n",
       "       [ 0.03654069,  0.23279042, -0.26933112],\n",
       "       [ 0.02612272,  0.27967121, -0.30579393],\n",
       "       [ 0.02857706,  0.19566899, -0.22424605],\n",
       "       [ 0.00233791,  0.17648344, -0.17882134],\n",
       "       [ 0.04823555,  0.17317155, -0.2214071 ]])"
      ]
     },
     "execution_count": 42,
     "metadata": {},
     "output_type": "execute_result"
    }
   ],
   "source": [
    "dw2 = df.dot(z).T/N\n",
    "grads['W2']=dw2\n",
    "dw2"
   ]
  },
  {
   "cell_type": "code",
   "execution_count": 43,
   "id": "d63c7936-9930-40e1-b384-28e397840d1f",
   "metadata": {},
   "outputs": [
    {
     "data": {
      "text/plain": [
       "array([ 0.05257056,  0.11171512, -0.16428567])"
      ]
     },
     "execution_count": 43,
     "metadata": {},
     "output_type": "execute_result"
    }
   ],
   "source": [
    "db2 = np.mean(df,axis=1)\n",
    "grads['b2']=db2\n",
    "db2"
   ]
  },
  {
   "cell_type": "code",
   "execution_count": 51,
   "id": "4ad093a8-65dd-482d-99a5-51ec1a640d1b",
   "metadata": {},
   "outputs": [
    {
     "data": {
      "text/plain": [
       "array([[2.48804881, 3.12189996, 2.67475632, 4.53382942, 4.49737762,\n",
       "        4.91746661, 6.03337418, 4.65135943, 3.56145544, 4.6607106 ],\n",
       "       [1.240437  , 1.61424288, 1.33359836, 2.27963354, 2.31566885,\n",
       "        2.52554858, 3.10811169, 2.37798335, 1.84961204, 2.35666856],\n",
       "       [1.55132574, 1.29731437, 1.62462102, 2.48012167, 1.89674902,\n",
       "        2.09666115, 2.5659043 , 2.22592579, 1.40807203, 2.46336641],\n",
       "       [2.783308  , 3.47129878, 3.02174659, 4.99158047, 5.0096163 ,\n",
       "        5.46639502, 6.80552149, 5.20628421, 4.00137997, 5.22818327]])"
      ]
     },
     "execution_count": 51,
     "metadata": {},
     "output_type": "execute_result"
    }
   ],
   "source": [
    "dresp1 = h2.dot(df)/N\n",
    "dz = np.where(z>0,resp1,0)\n",
    "dw1= x.T.dot(dz)\n",
    "grads['W1']=dw1\n",
    "dw1"
   ]
  },
  {
   "cell_type": "code",
   "execution_count": 52,
   "id": "b64bfd7d-eff7-4264-a353-0a3ebe15eaf1",
   "metadata": {},
   "outputs": [
    {
     "data": {
      "text/plain": [
       "array([ 4.49573671,  5.14958793,  4.81205556,  7.92971781,  7.45068514,\n",
       "        8.16691609, 10.02539494,  7.90099085,  5.82755135,  8.10097233])"
      ]
     },
     "execution_count": 52,
     "metadata": {},
     "output_type": "execute_result"
    }
   ],
   "source": [
    "db1 = np.sum(dz,axis=0)\n",
    "grads['b1']=db1\n",
    "db1"
   ]
  }
 ],
 "metadata": {
  "kernelspec": {
   "display_name": "Python 3 (ipykernel)",
   "language": "python",
   "name": "python3"
  },
  "language_info": {
   "codemirror_mode": {
    "name": "ipython",
    "version": 3
   },
   "file_extension": ".py",
   "mimetype": "text/x-python",
   "name": "python",
   "nbconvert_exporter": "python",
   "pygments_lexer": "ipython3",
   "version": "3.12.7"
  }
 },
 "nbformat": 4,
 "nbformat_minor": 5
}
