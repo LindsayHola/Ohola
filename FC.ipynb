{
 "cells": [
  {
   "cell_type": "code",
   "execution_count": 1,
   "id": "d7b394ad-8b61-4f79-a281-fcc59b10cf68",
   "metadata": {},
   "outputs": [],
   "source": [
    "import numpy as np"
   ]
  },
  {
   "cell_type": "markdown",
   "id": "da6183d9-9180-451f-9cab-735540082bfc",
   "metadata": {},
   "source": [
    "### 1 Forward Pass"
   ]
  },
  {
   "cell_type": "code",
   "execution_count": 3,
   "id": "820d2d6a-dd08-4670-bb71-ccab0eefa716",
   "metadata": {},
   "outputs": [],
   "source": [
    "input_size = 4\n",
    "hidden_size = 10\n",
    "num_classes = 3\n",
    "num_inputs = 5"
   ]
  },
  {
   "cell_type": "code",
   "execution_count": 4,
   "id": "f9aff427-048c-4c70-a331-73c1487823f7",
   "metadata": {},
   "outputs": [],
   "source": [
    "x = np.random.rand(1,4)\n",
    "h1 = np.random.rand(4,10)\n",
    "h2 = np.random.rand(10,3)"
   ]
  },
  {
   "cell_type": "code",
   "execution_count": 10,
   "id": "c4c5903c-61c9-42a8-b9ea-344802b42d84",
   "metadata": {},
   "outputs": [
    {
     "name": "stdout",
     "output_type": "stream",
     "text": [
      "[[0.47652309 0.44267149 0.92751228 0.37625421]]\n",
      "[[0.14381708 0.37910398 0.37107567 0.54190151 0.56289133 0.12119121\n",
      "  0.3448073  0.92259336 0.73150979 0.82647783]\n",
      " [0.71821742 0.72019272 0.78142657 0.58099888 0.82642908 0.58546644\n",
      "  0.80229935 0.36454112 0.56214378 0.85751677]\n",
      " [0.1565883  0.89470632 0.47531718 0.93348549 0.58124293 0.39220211\n",
      "  0.29622631 0.77346681 0.94393093 0.16625974]\n",
      " [0.23957184 0.6285343  0.69231099 0.34544739 0.86939279 0.43478021\n",
      "  0.86119666 0.40824688 0.89174895 0.84734684]]\n"
     ]
    }
   ],
   "source": [
    "print(x)\n",
    "print(h1)"
   ]
  },
  {
   "cell_type": "code",
   "execution_count": 6,
   "id": "3e91bfc0-1d8d-410e-8dd2-78ca612f30dc",
   "metadata": {},
   "outputs": [],
   "source": [
    "layer1 = x.dot(h1)\n",
    "layer2 = layer1.dot(h2)"
   ]
  },
  {
   "cell_type": "code",
   "execution_count": 7,
   "id": "4655fc1d-4f40-4160-bcd0-ef4b92b8aea9",
   "metadata": {},
   "outputs": [
    {
     "data": {
      "text/plain": [
       "array([[0.62184401, 1.56580035, 1.22408883, 1.5112155 , 1.50028995,\n",
       "        0.84427987, 1.11824609, 1.47201356, 1.80845815, 1.24645975]])"
      ]
     },
     "execution_count": 7,
     "metadata": {},
     "output_type": "execute_result"
    }
   ],
   "source": [
    "layer1"
   ]
  },
  {
   "cell_type": "code",
   "execution_count": 9,
   "id": "f3ef8e04-f442-42c9-ae50-802c1f797729",
   "metadata": {},
   "outputs": [
    {
     "data": {
      "text/plain": [
       "array([[6.11931794, 8.41992156, 6.09863927]])"
      ]
     },
     "execution_count": 9,
     "metadata": {},
     "output_type": "execute_result"
    }
   ],
   "source": [
    "layer2"
   ]
  },
  {
   "cell_type": "code",
   "execution_count": null,
   "id": "c67055d1-4bac-48cc-8658-e08ec5b229c4",
   "metadata": {},
   "outputs": [],
   "source": []
  }
 ],
 "metadata": {
  "kernelspec": {
   "display_name": "Python 3 (ipykernel)",
   "language": "python",
   "name": "python3"
  },
  "language_info": {
   "codemirror_mode": {
    "name": "ipython",
    "version": 3
   },
   "file_extension": ".py",
   "mimetype": "text/x-python",
   "name": "python",
   "nbconvert_exporter": "python",
   "pygments_lexer": "ipython3",
   "version": "3.12.7"
  }
 },
 "nbformat": 4,
 "nbformat_minor": 5
}
